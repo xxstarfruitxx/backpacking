{
  "cells": [
    {
      "cell_type": "code",
      "execution_count": null,
      "metadata": {
        "id": "Sg0HeYwkM48V"
      },
      "outputs": [],
      "source": [
        "# Install apt dependencies\n",
        "!apt install dotnet-sdk-7.0 git\n",
        "\n",
        "# Install Clouldflared (not on apt)\n",
        "!wget https://github.com/cloudflare/cloudflared/releases/latest/download/cloudflared-linux-amd64.deb\n",
        "!dpkg -i cloudflared-linux-amd64.deb\n",
        "\n",
        "# Download StableSwarmUI\n",
        "!git clone https://github.com/Stability-AI/StableSwarmUI\n",
        "\n",
        "# Download ComfyUI backend\n",
        "%cd /content/StableSwarmUI\n",
        "!mkdir /content/StableSwarmUI/dlbackends\n",
        "%cd /content/StableSwarmUI/dlbackends\n",
        "!git clone https://github.com/comfyanonymous/ComfyUI\n",
        "%cd /content/StableSwarmUI/dlbackends/ComfyUI\n",
        "\n",
        "# Setup ComfyUI\n",
        "!pip install -r requirements.txt"
      ]
    },
    {
      "cell_type": "code",
      "execution_count": null,
      "metadata": {
        "id": "K9Oer9TVObYA"
      },
      "outputs": [],
      "source": [
        "# Alright, launch it! Watch the output for a Cloudflare URL\n",
        "%cd /content/StableSwarmUI/\n",
        "\n",
        "!bash ./launch-linux.sh --launch_mode none --cloudflared-path cloudflared --backends_file /content/StableSwarmUI/colab/colab_backends.fds"
      ]
    }
  ],
  "metadata": {
    "accelerator": "GPU",
    "colab": {
      "gpuType": "T4",
      "provenance": []
    },
    "kernelspec": {
      "display_name": "Python 3",
      "name": "python3"
    },
    "language_info": {
      "name": "python"
    }
  },
  "nbformat": 4,
  "nbformat_minor": 0
}
