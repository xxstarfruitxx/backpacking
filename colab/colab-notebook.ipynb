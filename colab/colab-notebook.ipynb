{
  "cells": [
    {
      "cell_type": "code",
      "execution_count": null,
      "metadata": {},
      "outputs": [],
      "source": [
        "#### PICK ONE: This node for temporary install\n",
        "SWARMPATH = '/content/'\n",
        "PATHMODE = 'temp'"
      ]
    },
    {
      "cell_type": "code",
      "execution_count": null,
      "metadata": {},
      "outputs": [],
      "source": [
        "#### PICK ONE: *OR* this node for install in drive\n",
        "from google.colab import drive\n",
        "drive.mount('/content/drive')\n",
        "SWARMPATH = '/content/drive/MyDrive'\n",
        "PATHMODE = 'drive'"
      ]
    },
    {
      "cell_type": "code",
      "execution_count": null,
      "metadata": {
        "id": "Sg0HeYwkM48V"
      },
      "outputs": [],
      "source": [
        "# Install apt dependencies\n",
        "!apt install dotnet-sdk-7.0 git\n",
        "\n",
        "# Install Clouldflared (not on apt)\n",
        "!wget https://github.com/cloudflare/cloudflared/releases/latest/download/cloudflared-linux-amd64.deb\n",
        "!dpkg -i cloudflared-linux-amd64.deb\n",
        "\n",
        "# use the chosen path\n",
        "import os\n",
        "os.environ['SWARMPATH'] = SWARMPATH\n",
        "os.environ['PATHMODE'] = PATHMODE\n",
        "%cd $SWARMPATH\n",
        "\n",
        "# Download StableSwarmUI\n",
        "!git clone https://github.com/Stability-AI/StableSwarmUI\n",
        "\n",
        "# Download ComfyUI backend\n",
        "%cd $SWARMPATH/StableSwarmUI\n",
        "!mkdir $SWARMPATH/StableSwarmUI/dlbackend\n",
        "%cd $SWARMPATH/StableSwarmUI/dlbackend\n",
        "!git clone https://github.com/comfyanonymous/ComfyUI\n",
        "%cd $SWARMPATH/StableSwarmUI/dlbackend/ComfyUI\n",
        "\n",
        "# Setup ComfyUI\n",
        "!pip install -r requirements.txt"
      ]
    },
    {
      "cell_type": "code",
      "execution_count": null,
      "metadata": {
        "id": "K9Oer9TVObYA"
      },
      "outputs": [],
      "source": [
        "# Alright, launch it! Watch the output for a Cloudflare URL\n",
        "%cd $SWARMPATH/StableSwarmUI/\n",
        "\n",
        "!bash ./launch-linux.sh --launch_mode none --cloudflared-path cloudflared --backends_file $SWARMPATH/StableSwarmUI/colab/colab_backends_$PATHMODE.fds"
      ]
    }
  ],
  "metadata": {
    "accelerator": "GPU",
    "colab": {
      "gpuType": "T4",
      "provenance": []
    },
    "kernelspec": {
      "display_name": "Python 3",
      "name": "python3"
    },
    "language_info": {
      "name": "python"
    }
  },
  "nbformat": 4,
  "nbformat_minor": 0
}
